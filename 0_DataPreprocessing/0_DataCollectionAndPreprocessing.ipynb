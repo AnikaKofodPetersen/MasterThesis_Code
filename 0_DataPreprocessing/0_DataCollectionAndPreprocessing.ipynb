{
 "cells": [
  {
   "cell_type": "markdown",
   "id": "770cd745",
   "metadata": {},
   "source": [
    "# Data Collection and Preprocessing"
   ]
  },
  {
   "cell_type": "code",
   "execution_count": null,
   "id": "39e2439b",
   "metadata": {},
   "outputs": [],
   "source": [
    "#Import\n",
    "import os\n",
    "import pandas as pd"
   ]
  },
  {
   "cell_type": "markdown",
   "id": "ace8f524",
   "metadata": {},
   "source": [
    "### Load and combine data from NESG dataset"
   ]
  },
  {
   "cell_type": "code",
   "execution_count": null,
   "id": "cbe49f21",
   "metadata": {},
   "outputs": [],
   "source": [
    "#Load NESG accessions and labels\n",
    "NESG_df = pd.read_csv(\"./nesg_original/nesg.csv\", sep=\",\")\n",
    "NESG_df = NESG_df.drop(['exp'], axis=1)"
   ]
  },
  {
   "cell_type": "code",
   "execution_count": null,
   "id": "67dc7bdf",
   "metadata": {},
   "outputs": [],
   "source": [
    "#Load NESG sequences \n",
    "seq_list = [None] * len(NESG_df)\n",
    "seq_count = 0\n",
    "with open(\"./nesg_original/nesg.fasta\", \"r\") as nesg_fasta:\n",
    "    for line in nesg_fasta:\n",
    "        if line.startswith(\">\"):\n",
    "            \n",
    "            #Catch former sequence\n",
    "            if seq_count != 0:\n",
    "                idx = NESG_df.index[NESG_df['id'] == header].tolist()\n",
    "                assert len(idx) == 1\n",
    "                sequence = sequence.split()\n",
    "                sequence = \"\".join(sequence)\n",
    "                seq_list[idx[0]] = sequence\n",
    "            \n",
    "            #initialize new sequence\n",
    "            header = line[1:-1]\n",
    "            sequence = \"\"\n",
    "            seq_count += 1\n",
    "            print(seq_count, end=\"\\r\")\n",
    "        else: \n",
    "            sequence += line\n",
    "            \n",
    "#Catch last sequence\n",
    "idx = NESG_df.index[NESG_df['id'] == header].tolist()\n",
    "assert len(idx) == 1\n",
    "seq_list[idx[0]] = sequence"
   ]
  },
  {
   "cell_type": "code",
   "execution_count": null,
   "id": "a646d514",
   "metadata": {},
   "outputs": [],
   "source": [
    "#Combine NESG ID and sequence\n",
    "NESG_df[\"sequence\"] = seq_list\n",
    "NESG_df = NESG_df.rename(columns={\"id\": \"AC\", \"sol\": \"NESG_label\"})\n",
    "NESG_df"
   ]
  },
  {
   "cell_type": "markdown",
   "id": "2279953a",
   "metadata": {},
   "source": [
    "### Load and combine data from PSI-Bio dataset"
   ]
  },
  {
   "cell_type": "code",
   "execution_count": null,
   "id": "46a83896",
   "metadata": {},
   "outputs": [],
   "source": [
    "#Load PSI-Bio accessions and labels\n",
    "PSI_BIO_df = pd.read_csv(\"./PSI_Biology/psi_biology_nesg_partitioning_wl_th025_amT.csv\", sep=\",\")\n",
    "PSI_BIO_df = PSI_BIO_df.drop(['priority', \"between_connectivity\", \"cluster\"], axis=1)\n",
    "PSI_BIO_df"
   ]
  },
  {
   "cell_type": "code",
   "execution_count": null,
   "id": "52fabf51",
   "metadata": {},
   "outputs": [],
   "source": [
    "#Load PSI-Bio sequences \n",
    "seq_list = [None] * len(PSI_BIO_df)\n",
    "seq_count = 0\n",
    "with open(\"./PSI_Biology/pET_full_without_his_tag.fa\", \"r\") as psibio_fasta:\n",
    "    for line in psibio_fasta:\n",
    "        if line.startswith(\">\"):\n",
    "            \n",
    "            #Catch former sequence\n",
    "            if seq_count != 0:\n",
    "                idx = PSI_BIO_df.index[PSI_BIO_df['AC'] == header].tolist()\n",
    "                if len(idx) == 1:\n",
    "                    sequence = sequence.split()\n",
    "                    sequence = \"\".join(sequence)\n",
    "                    seq_list[idx[0]] = sequence\n",
    "            \n",
    "            #initialize new sequence\n",
    "            header = line[1:].split(\"_\")[0]\n",
    "            sequence = \"\"\n",
    "            seq_count += 1\n",
    "            print(seq_count, end=\"\\r\")\n",
    "        else: \n",
    "            sequence += line\n",
    "            \n",
    "#Catch last sequence\n",
    "idx = PSI_BIO_df.index[PSI_BIO_df['AC'] == header].tolist()\n",
    "if len(idx) == 1:\n",
    "    seq_list[idx[0]] = sequence"
   ]
  },
  {
   "cell_type": "code",
   "execution_count": null,
   "id": "d1f8c6cc",
   "metadata": {},
   "outputs": [],
   "source": [
    "#Combine PSI-bio ID and sequence\n",
    "PSI_BIO_df[\"sequence\"] = seq_list\n",
    "PSI_BIO_df = PSI_BIO_df.rename(columns={\"label-val\": \"PSI_BIO_label\"})\n",
    "PSI_BIO_df"
   ]
  },
  {
   "cell_type": "markdown",
   "id": "16f453f7",
   "metadata": {},
   "source": [
    "### Combine NESG and PSI-bio dataframes"
   ]
  },
  {
   "cell_type": "code",
   "execution_count": null,
   "id": "07e94558",
   "metadata": {},
   "outputs": [],
   "source": [
    "#Reformat to dict\n",
    "psibio_dict = PSI_BIO_df.T.to_dict()\n",
    "nesg_dict = NESG_df.T.to_dict()\n",
    "print(len(psibio_dict))\n",
    "print(len(nesg_dict))"
   ]
  },
  {
   "cell_type": "code",
   "execution_count": null,
   "id": "39e9a45e",
   "metadata": {},
   "outputs": [],
   "source": [
    "#Make new dict with combined info from previous dicts\n",
    "collect_dict = dict()\n",
    "collect_count = 0\n",
    "for key, value in psibio_dict.items():\n",
    "    print(collect_count, end=\"\\r\")\n",
    "\n",
    "    #Collect psibio knowledge\n",
    "    seq = value[\"sequence\"]\n",
    "    if len(seq) > 1000:\n",
    "        seq = None\n",
    "    psibio_label = int(value[\"PSI_BIO_label\"])\n",
    "    AC = value[\"AC\"]\n",
    " \n",
    "    #Check if sequence is found in nesg data\n",
    "    idx = NESG_df.index[NESG_df['sequence'] == seq].tolist()\n",
    "    if len(idx) != 0:\n",
    "        for i in idx:\n",
    "            collect_count += 1\n",
    "            collect_dict[collect_count] = {\"ID\":\"nAC\"+ str(collect_count),\n",
    "                                                       \"PSI_BIO_label\":psibio_label,\n",
    "                                                    \"NESG_label\":int(NESG_df.at[i,'NESG_label']),\n",
    "                                                    \"sequence\":seq}\n",
    "    else:\n",
    "        collect_count += 1\n",
    "        collect_dict[collect_count] = {\"ID\":\"nAC\"+ str(collect_count),\n",
    "                                       \"PSI_BIO_label\":psibio_label,\n",
    "                                                    \"NESG_label\":None,\n",
    "                                                    \"sequence\":seq}\n",
    "                                                    \n",
    "    \n",
    "#Get the last sequences that are not seen in psibio dataset        \n",
    "for key, value in nesg_dict.items():\n",
    "    print(collect_count, end=\"\\r\")\n",
    "    \n",
    "    seq = value[\"sequence\"]\n",
    "    if len(seq) > 1000:\n",
    "        seq = None\n",
    "    nesg_label = int(value[\"NESG_label\"])\n",
    "    AC = value[\"AC\"]\n",
    "    \n",
    "    idx = PSI_BIO_df.index[PSI_BIO_df['sequence'] == seq].tolist()\n",
    "    if len(idx) != 0:\n",
    "        for i in idx:\n",
    "            collect_count += 1\n",
    "            collect_dict[collect_count] = {\"ID\":\"nAC\"+ str(collect_count),\n",
    "                                           \"PSI_BIO_label\":int(PSI_BIO_df.at[i,'PSI_BIO_label']),\n",
    "                                                       \"NESG_label\":nesg_label,\n",
    "                                                       \"sequence\":seq}\n",
    "    else:\n",
    "        collect_count += 1\n",
    "        collect_dict[collect_count] = {\"ID\":\"nAC\"+ str(collect_count),\n",
    "                                                   \"PSI_BIO_label\":None,\n",
    "                                                  \"NESG_label\":nesg_label,\n",
    "                                                  \"sequence\":seq}   \n"
   ]
  },
  {
   "cell_type": "code",
   "execution_count": null,
   "id": "babeb102",
   "metadata": {},
   "outputs": [],
   "source": [
    "#Check new dataframe\n",
    "collect_df = pd.DataFrame.from_dict(collect_dict, orient='index')\n",
    "collect_df"
   ]
  },
  {
   "cell_type": "code",
   "execution_count": null,
   "id": "d70840fc",
   "metadata": {},
   "outputs": [],
   "source": [
    "# Remove duplicates\n",
    "collect_df = collect_df.drop_duplicates(subset = collect_df.columns.difference(['ID']))\n",
    "collect_df"
   ]
  },
  {
   "cell_type": "code",
   "execution_count": null,
   "id": "4bf0f0fd",
   "metadata": {},
   "outputs": [],
   "source": [
    "# Check for same sequence different labels\n",
    "sequence_list = collect_df[\"sequence\"]\n",
    "duplicate_dict = dict()\n",
    "seq_count = -1\n",
    "for seq in sequence_list:\n",
    "    seq_count += 1\n",
    "    print(seq_count, end=\"\\r\")\n",
    "    idx = collect_df.ID[collect_df['sequence'] == seq]\n",
    "    if len(idx) != 1:\n",
    "        duplicate_dict[seq_count] = idx"
   ]
  },
  {
   "cell_type": "code",
   "execution_count": null,
   "id": "cee68571",
   "metadata": {},
   "outputs": [],
   "source": [
    "#Rename and reindex for easier iteration\n",
    "duplicate_df = pd.DataFrame.from_dict(duplicate_dict, orient='index')\n",
    "duplicate_df = duplicate_df.reset_index(drop=True)\n",
    "column_header = duplicate_df.columns.tolist()\n",
    "rename_dict = dict()\n",
    "count = 0\n",
    "for name in column_header:\n",
    "    rename_dict[name] = count\n",
    "    count += 1\n",
    "duplicate_df = duplicate_df.rename(columns=rename_dict)\n",
    "duplicate_df"
   ]
  },
  {
   "cell_type": "code",
   "execution_count": null,
   "id": "de50f79a",
   "metadata": {},
   "outputs": [],
   "source": [
    "# Get rid of sequences with contradictory labels, as this could cause frustration in the system\n",
    "row_id = []\n",
    "for i in range(len(duplicate_df.columns)):\n",
    "    row_id += duplicate_df[i].tolist()\n",
    "row_id = set(row_id)\n",
    "collect_df = collect_df[~collect_df['ID'].isin(row_id)]"
   ]
  },
  {
   "cell_type": "code",
   "execution_count": null,
   "id": "b022680e",
   "metadata": {},
   "outputs": [],
   "source": [
    "collect_df = collect_df.reset_index(drop=True)\n",
    "collect_df"
   ]
  },
  {
   "cell_type": "code",
   "execution_count": null,
   "id": "7bc43f04",
   "metadata": {},
   "outputs": [],
   "source": [
    "#Double check that there are no instances of the same sequence appearing twice\n",
    "seqs = collect_df[\"sequence\"]\n",
    "assert len(seqs) == len(set(seqs))\n",
    "\n",
    "#Check how many sequences are overlapping\n",
    "total = 0\n",
    "for i in range(len(collect_df.index)):\n",
    "    if collect_df.iloc[i].isnull().sum() == 0:\n",
    "        total += 1\n",
    "print(f\"Total overlapping sequences: {total}\")"
   ]
  },
  {
   "cell_type": "code",
   "execution_count": null,
   "id": "66c039da",
   "metadata": {},
   "outputs": [],
   "source": [
    "#Save this to an csv file\n",
    "collect_df.to_csv(\"CleanedData.csv\",index=False)"
   ]
  },
  {
   "cell_type": "code",
   "execution_count": null,
   "id": "2ed92f0a",
   "metadata": {},
   "outputs": [],
   "source": []
  },
  {
   "cell_type": "code",
   "execution_count": null,
   "id": "23413725",
   "metadata": {},
   "outputs": [],
   "source": []
  }
 ],
 "metadata": {
  "kernelspec": {
   "display_name": "Python 3 (ipykernel)",
   "language": "python",
   "name": "python3"
  },
  "language_info": {
   "codemirror_mode": {
    "name": "ipython",
    "version": 3
   },
   "file_extension": ".py",
   "mimetype": "text/x-python",
   "name": "python",
   "nbconvert_exporter": "python",
   "pygments_lexer": "ipython3",
   "version": "3.9.7"
  }
 },
 "nbformat": 4,
 "nbformat_minor": 5
}
