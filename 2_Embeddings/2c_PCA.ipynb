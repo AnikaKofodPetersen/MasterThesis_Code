{
 "cells": [
  {
   "cell_type": "markdown",
   "id": "31b207f3",
   "metadata": {},
   "source": [
    "# Lower dimensionalty with PCA"
   ]
  },
  {
   "cell_type": "markdown",
   "id": "fb4a55dd",
   "metadata": {},
   "source": [
    "I want to lower the dimensionality of the embeddings, but still capture as much of the variance as possible.\n",
    "To do so, I choose to do a PCA."
   ]
  },
  {
   "cell_type": "markdown",
   "id": "b8f25f01",
   "metadata": {},
   "source": [
    "### *NOTE! These dimensionality reductions were performed on computerome due to lacking processing power on my locla machine"
   ]
  },
  {
   "cell_type": "code",
   "execution_count": null,
   "id": "590267bd",
   "metadata": {},
   "outputs": [],
   "source": [
    "# Define paths\n",
    "PS_in_emb = \"./PS_embeddings/\"\n",
    "ESM_in_emb = \"./ESM_embeddings/\"\n",
    "PS_out_emb = \"./PCA_reduced/PS_embeddings/\"\n",
    "ESM_out_emb = \"./PCA_reduced/ESM_embeddings/\""
   ]
  },
  {
   "cell_type": "code",
   "execution_count": null,
   "id": "d03c9272",
   "metadata": {},
   "outputs": [],
   "source": [
    "# Perform PCA on PS embeddings\n",
    "!./pca_embeddings.py -i $PS_in_emb -o $PS_out_emb -d 30 -s 128 -e False"
   ]
  },
  {
   "cell_type": "code",
   "execution_count": null,
   "id": "53f56a67",
   "metadata": {},
   "outputs": [],
   "source": []
  },
  {
   "cell_type": "code",
   "execution_count": null,
   "id": "6e1ce672",
   "metadata": {},
   "outputs": [],
   "source": [
    "# Perform PCA on ESM embeddings\n",
    "!./pca_embeddings.py -i $ESM_in_emb -o $ESM_out_emb -d 30 -s 1280 -e True"
   ]
  },
  {
   "cell_type": "code",
   "execution_count": null,
   "id": "a81085fc",
   "metadata": {},
   "outputs": [],
   "source": [
    "./pca_embeddings.py -i ./ESM18_embeddings/ -o ./ESM_out/ -d 30 -s 1280 -e True"
   ]
  },
  {
   "cell_type": "code",
   "execution_count": null,
   "id": "9b73c04d",
   "metadata": {},
   "outputs": [],
   "source": [
    "./pca_embeddings.py -i ./PS_embs/ -o ./PS_out/ -d 30 -s 128 -e False"
   ]
  },
  {
   "cell_type": "code",
   "execution_count": null,
   "id": "e85eaae9",
   "metadata": {},
   "outputs": [],
   "source": []
  }
 ],
 "metadata": {
  "kernelspec": {
   "display_name": "Python 3 (ipykernel)",
   "language": "python",
   "name": "python3"
  },
  "language_info": {
   "codemirror_mode": {
    "name": "ipython",
    "version": 3
   },
   "file_extension": ".py",
   "mimetype": "text/x-python",
   "name": "python",
   "nbconvert_exporter": "python",
   "pygments_lexer": "ipython3",
   "version": "3.9.7"
  }
 },
 "nbformat": 4,
 "nbformat_minor": 5
}
