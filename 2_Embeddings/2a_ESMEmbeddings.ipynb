{
 "cells": [
  {
   "cell_type": "markdown",
   "id": "f7bfacfb",
   "metadata": {},
   "source": [
    "# Make ESM embeddings for multiple proteins"
   ]
  },
  {
   "cell_type": "code",
   "execution_count": null,
   "id": "b561e552",
   "metadata": {},
   "outputs": [],
   "source": [
    "# import stuff\n",
    "import os\n",
    "import sys\n",
    "import pandas as pd"
   ]
  },
  {
   "cell_type": "markdown",
   "id": "038eb71c",
   "metadata": {},
   "source": [
    "### Make a bulk fasta file from the CleanedData.csv"
   ]
  },
  {
   "cell_type": "code",
   "execution_count": null,
   "id": "b46e5126",
   "metadata": {},
   "outputs": [],
   "source": [
    "# Load data from CleanedData\n",
    "cleaned_df = pd.read_csv(\"../0_DataPreprocessing/CleanedData.csv\", sep=\",\")\n",
    "cleaned_df"
   ]
  },
  {
   "cell_type": "code",
   "execution_count": null,
   "id": "1c3ff218",
   "metadata": {},
   "outputs": [],
   "source": [
    "#Get data to make bulk fasta file\n",
    "fasta = \"\"\n",
    "for index, row in cleaned_df.iterrows():\n",
    "    print(index, end = \"\\r\")\n",
    "    header = row[\"ID\"]\n",
    "    seq = row[\"sequence\"]\n",
    "    fasta += f\">{header}\\n{seq}\\n\"\n",
    "\n",
    "#Make bulk fasta\n",
    "with open(\"bulk.fasta\",\"w\") as bulk:\n",
    "    bulk.write(fasta)"
   ]
  },
  {
   "cell_type": "code",
   "execution_count": null,
   "id": "8540173f",
   "metadata": {},
   "outputs": [],
   "source": [
    "#Make ESM embeddings\n",
    "%run /home/anikakp/proteinsolver/notebooks/../../esm/variant-prediction/extract.py esm1b_t33_650M_UR50S ../../../../../../../c/Users/anika/Desktop/Master_thesis/CookBook/\"1_Embeddings\"/bulk.fasta ../../../../../../../c/Users/anika/Desktop/Master_thesis/CookBook/\"1_Embeddings\"/ESM_embeddings --repr_layers 33 --include per_tok"
   ]
  },
  {
   "cell_type": "code",
   "execution_count": null,
   "id": "5a417b66",
   "metadata": {},
   "outputs": [],
   "source": []
  }
 ],
 "metadata": {
  "kernelspec": {
   "display_name": "Python 3 (ipykernel)",
   "language": "python",
   "name": "python3"
  },
  "language_info": {
   "codemirror_mode": {
    "name": "ipython",
    "version": 3
   },
   "file_extension": ".py",
   "mimetype": "text/x-python",
   "name": "python",
   "nbconvert_exporter": "python",
   "pygments_lexer": "ipython3",
   "version": "3.9.7"
  }
 },
 "nbformat": 4,
 "nbformat_minor": 5
}
