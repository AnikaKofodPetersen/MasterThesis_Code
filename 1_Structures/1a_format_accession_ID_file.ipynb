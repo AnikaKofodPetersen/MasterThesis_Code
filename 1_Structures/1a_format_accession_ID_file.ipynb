{
 "cells": [
  {
   "cell_type": "code",
   "execution_count": null,
   "id": "85d6bb16",
   "metadata": {},
   "outputs": [],
   "source": [
    "#Reformat accession ID's\n",
    "count = 0\n",
    "with open(\"accession_ids.txt\", \"r\") as inputfile:\n",
    "    with open(\"Accessions.txt\", \"w\") as outputfile:\n",
    "        for line in inputfile:\n",
    "            count += 1\n",
    "            if count%1000 == 0:\n",
    "                print(count, end=\"\\r\")\n",
    "            acc = line.split(\",\")[0]\n",
    "            outputfile.write(acc+\"\\n\")"
   ]
  },
  {
   "cell_type": "code",
   "execution_count": null,
   "id": "c4f51b9b",
   "metadata": {},
   "outputs": [],
   "source": []
  }
 ],
 "metadata": {
  "kernelspec": {
   "display_name": "Python 3 (ipykernel)",
   "language": "python",
   "name": "python3"
  },
  "language_info": {
   "codemirror_mode": {
    "name": "ipython",
    "version": 3
   },
   "file_extension": ".py",
   "mimetype": "text/x-python",
   "name": "python",
   "nbconvert_exporter": "python",
   "pygments_lexer": "ipython3",
   "version": "3.9.7"
  }
 },
 "nbformat": 4,
 "nbformat_minor": 5
}
