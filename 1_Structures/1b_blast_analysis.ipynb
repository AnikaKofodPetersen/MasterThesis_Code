{
 "cells": [
  {
   "cell_type": "markdown",
   "id": "c250ff86",
   "metadata": {},
   "source": [
    "# Blast analysis"
   ]
  },
  {
   "cell_type": "markdown",
   "id": "e10352fb",
   "metadata": {},
   "source": [
    "This notebook aims to find the accessionnumbers of proteins matching our protein data, in order to retrieve their structures from the AlphaFold database."
   ]
  },
  {
   "cell_type": "markdown",
   "id": "b6e2ad33",
   "metadata": {},
   "source": [
    "### Load and filter data"
   ]
  },
  {
   "cell_type": "code",
   "execution_count": null,
   "id": "c498985e",
   "metadata": {},
   "outputs": [],
   "source": [
    "#Import\n",
    "import pandas as pd\n",
    "import numpy as np\n",
    "import os\n",
    "import sys\n",
    "import requests"
   ]
  },
  {
   "cell_type": "code",
   "execution_count": null,
   "id": "94d0cf80",
   "metadata": {},
   "outputs": [],
   "source": [
    "#Load the dataframes\n",
    "A_df = pd.read_csv ('./csv-files/blastp_A.csv', sep = \";\")\n",
    "B_df = pd.read_csv ('./csv-files/blastp_B.csv', sep = \";\")\n",
    "C_df = pd.read_csv ('./csv-files/blastp_C.csv', sep = \";\")\n",
    "D_df = pd.read_csv ('./csv-files/blastp_D.csv', sep = \";\")\n",
    "E_df = pd.read_csv ('./csv-files/blastp_E.csv', sep = \";\")\n",
    "F_df = pd.read_csv ('./csv-files/blastp_F.csv', sep = \";\")\n",
    "G_df = pd.read_csv ('./csv-files/blastp_G.csv', sep = \";\")\n",
    "H_df = pd.read_csv ('./csv-files/blastp_H.csv', sep = \";\")\n",
    "I_df = pd.read_csv ('./csv-files/blastp_I.csv', sep = \";\")\n",
    "\n",
    "#Concatenate into one dataframe and reindex\n",
    "frames = [A_df, B_df, C_df, D_df, E_df, F_df, G_df, H_df, I_df]\n",
    "all_df = result = pd.concat(frames)\n",
    "all_df.reset_index(drop=True, inplace=True)\n",
    "all_df"
   ]
  },
  {
   "cell_type": "code",
   "execution_count": null,
   "id": "a4d12c19",
   "metadata": {},
   "outputs": [],
   "source": [
    "#Drop all rows with less than 80 identity\n",
    "df = all_df[all_df.pident >= 80]\n",
    "df = df.sort_values('qseqid')\n",
    "df.reset_index(drop=True, inplace=True)\n",
    "\n",
    "#Add columns with %coverage of subject\n",
    "sstart = df[\"sstart\"]\n",
    "send = df[\"send\"]\n",
    "diff = np.subtract(send,sstart)\n",
    "cover = [(j/i)*100 for i,j in zip(send,diff)]\n",
    "df[\"scover\"] = cover \n",
    "\n",
    "#Drop all rows with less than 80% coverage of subject\n",
    "df = df[df.scover >= 80]\n",
    "df = df.sort_values('qseqid')\n",
    "df.reset_index(drop=True, inplace=True)\n",
    "df"
   ]
  },
  {
   "cell_type": "markdown",
   "id": "e36e65ba",
   "metadata": {},
   "source": [
    "As seen, some of the proteins have several good matches while others have none. I need to find the best match for the ones with any matches."
   ]
  },
  {
   "cell_type": "markdown",
   "id": "0534bd19",
   "metadata": {},
   "source": [
    "### Find best matches"
   ]
  },
  {
   "cell_type": "code",
   "execution_count": null,
   "id": "38088313",
   "metadata": {},
   "outputs": [],
   "source": [
    "unique_id = set(df[\"qseqid\"])\n",
    "print(f\"Number of proteins with good matches: {len(unique_id)}\")"
   ]
  },
  {
   "cell_type": "code",
   "execution_count": null,
   "id": "ec782520",
   "metadata": {},
   "outputs": [],
   "source": [
    "#Iterate through the proteins to check matches\n",
    "accepted_sseqid = dict()\n",
    "for prot in unique_id:\n",
    "    subset_df = df[df.qseqid == prot]\n",
    "    \n",
    "    #Get best matches on top\n",
    "    subset_df = subset_df.drop_duplicates(subset=subset_df.columns.difference(['evalue']))\n",
    "    subset_df = subset_df.sort_values([\"pident\", \"length\", \"scover\"], ascending = (False, False, False))\n",
    "    \n",
    "    #Check if there is a drop in values\n",
    "    id_diff = np.subtract(list(subset_df[\"pident\"])[1:],list(subset_df[\"pident\"])[:-1])\n",
    "    length_diff = np.subtract(list(subset_df[\"length\"])[1:],list(subset_df[\"length\"])[:-1])\n",
    "    scover_diff = np.subtract(list(subset_df[\"scover\"])[1:],list(subset_df[\"scover\"])[:-1])\n",
    "    sseqid = list(subset_df[\"sseqid\"])\n",
    "    \n",
    "    #Pick out the best options for structures\n",
    "    if sum(id_diff) != 0:\n",
    "        id_idx = [idx for idx, element in enumerate(id_diff) if element != 0]\n",
    "        id_idx = (id_idx[0])+1\n",
    "        if id_idx > 5:\n",
    "            id_idx = 5\n",
    "        output_sseqid = sseqid[:id_idx]\n",
    "    elif sum(length_diff) != 0:\n",
    "        id_idx = [idx for idx, element in enumerate(length_diff) if element != 0]\n",
    "        id_idx = (id_idx[0])+1\n",
    "        if id_idx > 5:\n",
    "            id_idx = 5\n",
    "        output_sseqid = sseqid[:id_idx]\n",
    "    elif sum(scover_diff) != 0:\n",
    "        id_idx = [idx for idx, element in enumerate(scover_diff) if element != 0]\n",
    "        id_idx = (id_idx[0])+1\n",
    "        if id_idx > 5:\n",
    "            id_idx = 5\n",
    "        output_sseqid = sseqid[:id_idx]\n",
    "        \n",
    "    #If all scores are equally good, choose the top 5 (if possible)    \n",
    "    else:\n",
    "        output_sseqid = sseqid[:5]\n",
    "        \n",
    "    #Save in a dict\n",
    "    accepted_sseqid[prot] = output_sseqid\n",
    "\n",
    "    "
   ]
  },
  {
   "cell_type": "code",
   "execution_count": null,
   "id": "e8c98fe5",
   "metadata": {},
   "outputs": [],
   "source": [
    "print(len(accepted_sseqid))\n",
    "accepted_sseqid"
   ]
  },
  {
   "cell_type": "markdown",
   "id": "b906018a",
   "metadata": {},
   "source": [
    "### Get structures"
   ]
  },
  {
   "cell_type": "markdown",
   "id": "922c0c7c",
   "metadata": {},
   "source": [
    "For easier approach, I choose to only take the first available structure (and thus best if not equal to the others)"
   ]
  },
  {
   "cell_type": "code",
   "execution_count": null,
   "id": "faae0745",
   "metadata": {},
   "outputs": [],
   "source": [
    "#initialize\n",
    "total = len(accepted_sseqid)\n",
    "count = 0\n",
    "\n",
    "#Iterate through the dict\n",
    "for key,value in accepted_sseqid.items():\n",
    "    count += 1\n",
    "    \n",
    "    #Screen output\n",
    "    screen = f\"Workign with protein: {key}   {count}/{total}\"\n",
    "    screen = screen.ljust(55, \" \")\n",
    "    print(screen, end = \"\\r\")\n",
    "    \n",
    "    #Get the pdb url from alphafold\n",
    "    best = value[0]\n",
    "    url = f\"https://alphafold.ebi.ac.uk/files/AF-{best}-F1-model_v2.pdb\"\n",
    "    \n",
    "    #Get pdb access\n",
    "    try:\n",
    "        r = requests.get(url, allow_redirects=True)\n",
    "    except Exception as e:\n",
    "        print(e)\n",
    "        sys.exit(1)\n",
    "        \n",
    "    #Write the pdb file locally \n",
    "    with open(f\"pdb-files/{key}_{best}.pdb\", \"wb\") as pdb:\n",
    "        pdb.write(r.content)"
   ]
  },
  {
   "cell_type": "code",
   "execution_count": null,
   "id": "d821bc1d",
   "metadata": {},
   "outputs": [],
   "source": []
  },
  {
   "cell_type": "code",
   "execution_count": null,
   "id": "6f553ab1",
   "metadata": {},
   "outputs": [],
   "source": []
  },
  {
   "cell_type": "code",
   "execution_count": null,
   "id": "1aee5127",
   "metadata": {},
   "outputs": [],
   "source": []
  },
  {
   "cell_type": "code",
   "execution_count": null,
   "id": "5622fd9f",
   "metadata": {},
   "outputs": [],
   "source": []
  },
  {
   "cell_type": "code",
   "execution_count": null,
   "id": "bd20cb72",
   "metadata": {},
   "outputs": [],
   "source": []
  }
 ],
 "metadata": {
  "kernelspec": {
   "display_name": "Python 3 (ipykernel)",
   "language": "python",
   "name": "python3"
  },
  "language_info": {
   "codemirror_mode": {
    "name": "ipython",
    "version": 3
   },
   "file_extension": ".py",
   "mimetype": "text/x-python",
   "name": "python",
   "nbconvert_exporter": "python",
   "pygments_lexer": "ipython3",
   "version": "3.9.7"
  }
 },
 "nbformat": 4,
 "nbformat_minor": 5
}
