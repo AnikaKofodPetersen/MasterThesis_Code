{
 "cells": [
  {
   "cell_type": "markdown",
   "id": "f7bfacfb",
   "metadata": {},
   "source": [
    "# Make ProteinSolver embeddings for multiple proteins"
   ]
  },
  {
   "cell_type": "markdown",
   "id": "cb1f29cd",
   "metadata": {},
   "source": [
    "#### Import packages"
   ]
  },
  {
   "cell_type": "code",
   "execution_count": null,
   "id": "b561e552",
   "metadata": {},
   "outputs": [],
   "source": [
    "# import stuff\n",
    "import os\n",
    "import sys\n",
    "import pandas as pd\n",
    "import proteinsolver\n",
    "import torch\n",
    "import torch_geometric\n",
    "import matplotlib.pyplot as plt\n",
    "import kmbio\n",
    "from kmbio import PDB\n",
    "from Bio.PDB import *\n",
    "from Bio import SeqIO\n",
    "from PS_model import *"
   ]
  },
  {
   "cell_type": "markdown",
   "id": "58d7cf30",
   "metadata": {},
   "source": [
    "#### Prepare paths"
   ]
  },
  {
   "cell_type": "code",
   "execution_count": null,
   "id": "71f07a59",
   "metadata": {},
   "outputs": [],
   "source": [
    "#Assign paths\n",
    "pdb_path = \"./pdb-files/\"\n",
    "embs_path = \"./PS_embeddings\"\n",
    "statefile = \"./e53-s1952148-d93703104.state\"\n",
    "device = \"cpu\""
   ]
  },
  {
   "cell_type": "markdown",
   "id": "ba913ed8",
   "metadata": {},
   "source": [
    "#### Define merging funciton"
   ]
  },
  {
   "cell_type": "code",
   "execution_count": null,
   "id": "e01c9adc",
   "metadata": {},
   "outputs": [],
   "source": [
    "#Define merging function\n",
    "def merge_chains(structure, merged_chain_name=\"A\"):\n",
    "    \"\"\"merges a structure with multiple chains into a single chain\"\"\"\n",
    "    # generate empty structure\n",
    "    new_structure = kmbio.PDB.Structure(structure.id)\n",
    "    new_model = kmbio.PDB.Model(0)\n",
    "    new_structure.add(new_model)\n",
    "    new_chain = kmbio.PDB.Chain(merged_chain_name)\n",
    "    new_model.add(new_chain)\n",
    "    \n",
    "    \n",
    "    # sort chains according to index of first residue\n",
    "    chains = list(structure.chains)\n",
    "    start_positions = [list(chain.residues)[0].id[1] for chain in chains] # idx 1 is residue position\n",
    "    sorted_chains = [chain for _, chain in sorted(zip(start_positions, chains))]\n",
    "    \n",
    "    chain_len = 1  # constant to offset positions of residues in other chains\n",
    "    for i, chain in enumerate(sorted_chains):\n",
    "        res_list = list(chain.residues)\n",
    "        if i > 0:  # skip first chain\n",
    "            for j, res in list(enumerate(res_list))[::-1]:  # iterate in reverse to prevent duplicate idxs\n",
    "                res.id = (res.id[0], j + chain_len + 1, res.id[2])\n",
    "        chain_len += res_list[-1].id[1]\n",
    "        new_chain.add(chain.residues)\n",
    "    return new_structure"
   ]
  },
  {
   "cell_type": "markdown",
   "id": "48a86035",
   "metadata": {},
   "source": [
    "## Make PS embeddings"
   ]
  },
  {
   "cell_type": "code",
   "execution_count": null,
   "id": "9adb4be4",
   "metadata": {},
   "outputs": [],
   "source": [
    "#Set parameters\n",
    "num_features = 20\n",
    "adj_input_size = 2\n",
    "hidden_size = 128"
   ]
  },
  {
   "cell_type": "code",
   "execution_count": null,
   "id": "e0f7d6cc",
   "metadata": {},
   "outputs": [],
   "source": [
    "#Define model\n",
    "gnn = Net(\n",
    "    x_input_size=num_features + 1,\n",
    "    adj_input_size=adj_input_size,\n",
    "    hidden_size=hidden_size,\n",
    "    output_size=num_features\n",
    ")\n",
    "gnn.load_state_dict(torch.load(statefile, map_location=device))\n",
    "gnn.eval()\n",
    "gnn = gnn.to(device)"
   ]
  },
  {
   "cell_type": "code",
   "execution_count": null,
   "id": "b6576efb",
   "metadata": {},
   "outputs": [],
   "source": [
    "#Get all filenames for new structures\n",
    "pdbs = os.listdir(pdb_path)\n",
    "print(\"There are {} pdbs\".format(len(pdbs)), end = \"\\n\\n\")"
   ]
  },
  {
   "cell_type": "code",
   "execution_count": null,
   "id": "9faea7dd",
   "metadata": {},
   "outputs": [],
   "source": [
    "count = 0\n",
    "\n",
    "#Iterate through all the pdb files\n",
    "for pdb in pdbs:\n",
    "    error_flag = False\n",
    "    count += 1\n",
    "    \n",
    "    #Screen output\n",
    "    screen = f\"Working with file {count} of {len(pdbs)}. Name: {pdb}\"\n",
    "    screen = screen.ljust(60 , \" \")\n",
    "    print(screen, end = \"\\r\")\n",
    "    \n",
    "    #Get structure \n",
    "    structure = merge_chains(PDB.load(\"{}/{}\".format(pdb_path, pdb)))\n",
    "\n",
    "    #Get name id\n",
    "    name = pdb.split(\".\")[0]\n",
    "    \n",
    "    #Extract sequences and adjacency matrix\n",
    "    protein_data = proteinsolver.utils.extract_seq_and_adj(structure, \"A\")\n",
    "\n",
    "    #Preprocess data\n",
    "    data1 = proteinsolver.datasets.protein.row_to_data(protein_data)\n",
    "    data2 = proteinsolver.datasets.protein.transform_edge_attr(data1)\n",
    "        \n",
    "    #Make embeddings\n",
    "    PS_embed = gnn.forward_without_last_layer(data2.x, data2.edge_index, data2.edge_attr)\n",
    "        \n",
    "    #Save embeddings\n",
    "    emb_path = f'{embs_path}/PS_{name}.pt'\n",
    "    torch.save(PS_embed, emb_path)"
   ]
  },
  {
   "cell_type": "code",
   "execution_count": null,
   "id": "8bdc6a4c",
   "metadata": {},
   "outputs": [],
   "source": []
  },
  {
   "cell_type": "code",
   "execution_count": null,
   "id": "3cedf452",
   "metadata": {},
   "outputs": [],
   "source": []
  },
  {
   "cell_type": "code",
   "execution_count": null,
   "id": "7bb4fea6",
   "metadata": {},
   "outputs": [],
   "source": []
  },
  {
   "cell_type": "code",
   "execution_count": null,
   "id": "cd4cffb2",
   "metadata": {},
   "outputs": [],
   "source": []
  },
  {
   "cell_type": "code",
   "execution_count": null,
   "id": "2cd3d83c",
   "metadata": {},
   "outputs": [],
   "source": []
  },
  {
   "cell_type": "code",
   "execution_count": null,
   "id": "e858d79b",
   "metadata": {},
   "outputs": [],
   "source": []
  }
 ],
 "metadata": {
  "kernelspec": {
   "display_name": "Python 3 (ipykernel)",
   "language": "python",
   "name": "python3"
  },
  "language_info": {
   "codemirror_mode": {
    "name": "ipython",
    "version": 3
   },
   "file_extension": ".py",
   "mimetype": "text/x-python",
   "name": "python",
   "nbconvert_exporter": "python",
   "pygments_lexer": "ipython3",
   "version": "3.9.7"
  }
 },
 "nbformat": 4,
 "nbformat_minor": 5
}
