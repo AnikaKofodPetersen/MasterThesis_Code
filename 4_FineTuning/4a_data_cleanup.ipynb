{
 "cells": [
  {
   "cell_type": "markdown",
   "id": "a651fe0c",
   "metadata": {},
   "source": [
    "# This notebook prepares Antibody aggregation data for testing through the bi-LSTM model"
   ]
  },
  {
   "cell_type": "code",
   "execution_count": null,
   "id": "3deb6b34",
   "metadata": {},
   "outputs": [],
   "source": [
    "#import\n",
    "import pandas as pd\n",
    "import os"
   ]
  },
  {
   "cell_type": "code",
   "execution_count": null,
   "id": "7a8e9d0b",
   "metadata": {},
   "outputs": [],
   "source": [
    "#Load data\n",
    "df = pd.read_csv(\"./test_data Jain et al.csv\", sep = \";\")\n",
    "df.rename(columns={'Affinity-Capture Self-Interaction Nanoparticle Spectroscopy (AC-SINS) ??max (nm) Average': 'AC-SINS', 'CSI-BLI Delta Response (nm)': 'CSI-BLI'}, inplace=True)\n",
    "df = df.dropna(how='all')\n",
    "df = df.dropna(axis='columns')\n",
    "df[\"seq\"] = df[\"VH\"] + df[\"VL\"]"
   ]
  },
  {
   "cell_type": "code",
   "execution_count": null,
   "id": "b8a47fd7",
   "metadata": {},
   "outputs": [],
   "source": [
    "df"
   ]
  },
  {
   "cell_type": "code",
   "execution_count": null,
   "id": "59762692",
   "metadata": {},
   "outputs": [],
   "source": [
    "#Collect the accesible needed pdbs\n",
    "accessible = os.listdir(\"../../DeepAb_pdbs\")\n",
    "accessible =  [name.split(\".\")[0] for name in accessible]\n",
    "for idx, row in df.iterrows():\n",
    "    name = row[\"Name\"]\n",
    "    if name in accessible:\n",
    "        os.system(f\"cp ../../DeepAb_pdbs/{name}.fsa_pred.deepab.pdb ./pdb-files\")"
   ]
  },
  {
   "cell_type": "code",
   "execution_count": null,
   "id": "2da7369c",
   "metadata": {},
   "outputs": [],
   "source": [
    "#Make a fastafile\n",
    "fasta_string = \"\"\n",
    "for idx, row in df.iterrows():\n",
    "    name = row[\"Name\"]\n",
    "    seq = row[\"seq\"]\n",
    "    fasta_string += f\">{name}\\n{seq}\\n\"\n",
    "with open(\"antibody_bulk.fsa\", \"w\") as outfile:\n",
    "    outfile.write(fasta_string)\n",
    "    "
   ]
  },
  {
   "cell_type": "code",
   "execution_count": null,
   "id": "28e488ea",
   "metadata": {},
   "outputs": [],
   "source": []
  }
 ],
 "metadata": {
  "kernelspec": {
   "display_name": "Python 3 (ipykernel)",
   "language": "python",
   "name": "python3"
  },
  "language_info": {
   "codemirror_mode": {
    "name": "ipython",
    "version": 3
   },
   "file_extension": ".py",
   "mimetype": "text/x-python",
   "name": "python",
   "nbconvert_exporter": "python",
   "pygments_lexer": "ipython3",
   "version": "3.9.7"
  }
 },
 "nbformat": 4,
 "nbformat_minor": 5
}
